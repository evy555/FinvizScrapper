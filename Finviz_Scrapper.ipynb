{
 "cells": [
  {
   "cell_type": "code",
   "execution_count": null,
   "metadata": {},
   "outputs": [],
   "source": [
    "import pandas as pd\n",
    "import requests\n",
    "from collections import Counter"
   ]
  },
  {
   "cell_type": "code",
   "execution_count": null,
   "metadata": {},
   "outputs": [],
   "source": [
    "df = pd.read_csv(\"SCHV_Fund_Holdings_Market_Open.csv\")"
   ]
  },
  {
   "cell_type": "code",
   "execution_count": null,
   "metadata": {},
   "outputs": [],
   "source": [
    "### Fix common ticker issues. I.E. BRK.A and BRK.B and GOOG and GOOGL\n",
    "df['Symbol'][0] = 'BRK.A'\n",
    "df['Symbol'] = df['Symbol'].str.replace(\".\",\"-\")"
   ]
  },
  {
   "cell_type": "code",
   "execution_count": null,
   "metadata": {},
   "outputs": [],
   "source": [
    "### First Finviz Scrape to set the Dataframe\n",
    "header = {\n",
    "  \"User-Agent\": \"Mozilla/5.0 (X11; Linux x86_64) AppleWebKit/537.36 (KHTML, like Gecko) Chrome/50.0.2661.75 Safari/537.36\",\n",
    "  \"X-Requested-With\": \"XMLHttpRequest\"\n",
    "}\n",
    "reg_url = \"https://finviz.com/quote.ashx?t={}\".format(df['Symbol'][0].replace(\".\",\"-\"))\n",
    "r = requests.get(reg_url, headers=header)\n",
    "test = pd.read_html(r.text)\n",
    "test[6]\n",
    "\n",
    "### Get Metric names in a list\n",
    "\n",
    "metrics = test[6][0]\n",
    "for i in [2,4,6,8,10]:\n",
    "    metrics = metrics.append(test[6][i])\n",
    "\n",
    "metrics.reset_index(drop=True, inplace=True)\n",
    "metrics[28] = \"EPS next Y (%)\"\n",
    "\n",
    "### Set Column Header for DataFrame\n",
    "count = 0\n",
    "for i in metrics:\n",
    "    df.loc[:,i] = ''\n",
    "\n",
    "### Get Metric Values in a list\n",
    "metric_values = test[6][1]\n",
    "for i in [3,5,7,9,11]:\n",
    "    metric_values = metric_values.append(test[6][i])\n",
    "    \n",
    "### Create list of tuples to add to Dataframe\n",
    "metric_value_list = list(zip(metrics,metric_values))\n",
    "\n",
    "### Add values to DataFrame\n",
    "for x,y in metric_value_list:\n",
    "    df.loc[0,x] = y"
   ]
  },
  {
   "cell_type": "code",
   "execution_count": null,
   "metadata": {},
   "outputs": [],
   "source": [
    "for symbol in range(1,len(df.index.values)):\n",
    "    try:\n",
    "        reg_url = \"https://finviz.com/quote.ashx?t={}\".format(df['Symbol'][symbol].replace(\".\",\"-\"))\n",
    "        r = requests.get(reg_url, headers=header)\n",
    "        test = pd.read_html(r.text)\n",
    "        \n",
    "        metric_values = test[6][1]\n",
    "        for i in [3,5,7,9,11]:\n",
    "            metric_values = metric_values.append(test[6][i])\n",
    "            \n",
    "        metric_value_list = list(zip(metrics,metric_values))\n",
    "        \n",
    "        for x,y in metric_value_list:\n",
    "            df.loc[symbol,x] = y\n",
    "    except:\n",
    "        print(\"Symbol {} did not work\".format(df['Symbol'][symbol]))\n",
    "        pass"
   ]
  },
  {
   "cell_type": "code",
   "execution_count": null,
   "metadata": {},
   "outputs": [],
   "source": [
    "df.to_csv('SCHV.csv')"
   ]
  },
  {
   "cell_type": "code",
   "execution_count": null,
   "metadata": {},
   "outputs": [],
   "source": [
    "df['Percent-Of-Assets'] = df['Percent-Of-Assets'].apply(lambda x: x/100)"
   ]
  },
  {
   "cell_type": "code",
   "execution_count": null,
   "metadata": {},
   "outputs": [],
   "source": []
  },
  {
   "cell_type": "code",
   "execution_count": null,
   "metadata": {},
   "outputs": [],
   "source": []
  },
  {
   "cell_type": "code",
   "execution_count": null,
   "metadata": {},
   "outputs": [],
   "source": []
  }
 ],
 "metadata": {
  "kernelspec": {
   "display_name": "Python 3",
   "language": "python",
   "name": "python3"
  },
  "language_info": {
   "codemirror_mode": {
    "name": "ipython",
    "version": 3
   },
   "file_extension": ".py",
   "mimetype": "text/x-python",
   "name": "python",
   "nbconvert_exporter": "python",
   "pygments_lexer": "ipython3",
   "version": "3.7.4"
  }
 },
 "nbformat": 4,
 "nbformat_minor": 2
}
